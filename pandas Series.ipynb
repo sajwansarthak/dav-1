{
 "cells": [
  {
   "cell_type": "code",
   "execution_count": 1,
   "id": "452f4ac5-806a-4502-89d9-2402a20898bc",
   "metadata": {},
   "outputs": [],
   "source": [
    "import pandas as pd\n",
    "import numpy as np\n"
   ]
  },
  {
   "cell_type": "code",
   "execution_count": 2,
   "id": "b1c96cbc-5e9e-420f-b22e-24f854ae4013",
   "metadata": {},
   "outputs": [],
   "source": [
    "g7_pop = pd.Series([35.467,63.951,80.940,60.665,127.067,64.511,318.523])"
   ]
  },
  {
   "cell_type": "code",
   "execution_count": 3,
   "id": "10cf1485-24c4-4886-8cbe-857fa3ab3d66",
   "metadata": {},
   "outputs": [
    {
     "data": {
      "text/plain": [
       "0     35.467\n",
       "1     63.951\n",
       "2     80.940\n",
       "3     60.665\n",
       "4    127.067\n",
       "5     64.511\n",
       "6    318.523\n",
       "dtype: float64"
      ]
     },
     "execution_count": 3,
     "metadata": {},
     "output_type": "execute_result"
    }
   ],
   "source": [
    "g7_pop\n"
   ]
  },
  {
   "cell_type": "code",
   "execution_count": 4,
   "id": "ded3d0f1-0192-4b07-95f1-8fdd3f7b8304",
   "metadata": {},
   "outputs": [],
   "source": [
    "g7_pop.name = 'G7 population in millions'"
   ]
  },
  {
   "cell_type": "code",
   "execution_count": 5,
   "id": "e7fd553b-0412-4b07-8867-f89ec6e9fb1c",
   "metadata": {},
   "outputs": [
    {
     "data": {
      "text/plain": [
       "0     35.467\n",
       "1     63.951\n",
       "2     80.940\n",
       "3     60.665\n",
       "4    127.067\n",
       "5     64.511\n",
       "6    318.523\n",
       "Name: G7 population in millions, dtype: float64"
      ]
     },
     "execution_count": 5,
     "metadata": {},
     "output_type": "execute_result"
    }
   ],
   "source": [
    "g7_pop\n"
   ]
  },
  {
   "cell_type": "code",
   "execution_count": 6,
   "id": "5e34ef60-7ca0-463b-a766-925c61d790f5",
   "metadata": {},
   "outputs": [
    {
     "data": {
      "text/plain": [
       "dtype('float64')"
      ]
     },
     "execution_count": 6,
     "metadata": {},
     "output_type": "execute_result"
    }
   ],
   "source": [
    "g7_pop.dtype"
   ]
  },
  {
   "cell_type": "code",
   "execution_count": 7,
   "id": "222a4f39-21ab-4a25-84f7-af964c25c769",
   "metadata": {},
   "outputs": [
    {
     "data": {
      "text/plain": [
       "array([ 35.467,  63.951,  80.94 ,  60.665, 127.067,  64.511, 318.523])"
      ]
     },
     "execution_count": 7,
     "metadata": {},
     "output_type": "execute_result"
    }
   ],
   "source": [
    "g7_pop.values"
   ]
  },
  {
   "cell_type": "code",
   "execution_count": 9,
   "id": "cd1f09d7-63ab-4964-9227-25da8f5c2aea",
   "metadata": {},
   "outputs": [
    {
     "data": {
      "text/plain": [
       "35.467"
      ]
     },
     "execution_count": 9,
     "metadata": {},
     "output_type": "execute_result"
    }
   ],
   "source": [
    "#we can access each element by their index\n",
    "g7_pop[0]\n"
   ]
  },
  {
   "cell_type": "code",
   "execution_count": 10,
   "id": "e334db0d-4ade-49a6-8379-95ec9961d4ed",
   "metadata": {},
   "outputs": [
    {
     "data": {
      "text/plain": [
       "RangeIndex(start=0, stop=7, step=1)"
      ]
     },
     "execution_count": 10,
     "metadata": {},
     "output_type": "execute_result"
    }
   ],
   "source": [
    "g7_pop.index "
   ]
  },
  {
   "cell_type": "code",
   "execution_count": 11,
   "id": "2fe671fa-064c-4d7f-b6ba-c844735d7c63",
   "metadata": {},
   "outputs": [],
   "source": [
    "#Here we can explicitly define the indexes \n",
    "g7_pop.index = [\n",
    "    'Canada',\n",
    "    'France',\n",
    "    'Germany',\n",
    "    'Italy',\n",
    "    'Japan',\n",
    "    'United States',\n",
    "    'United Kingdom',\n",
    "]"
   ]
  },
  {
   "cell_type": "code",
   "execution_count": 12,
   "id": "6469666f-988e-47c5-ae9b-3e2f37ccc267",
   "metadata": {},
   "outputs": [
    {
     "data": {
      "text/plain": [
       "Canada             35.467\n",
       "France             63.951\n",
       "Germany            80.940\n",
       "Italy              60.665\n",
       "Japan             127.067\n",
       "United States      64.511\n",
       "United Kingdom    318.523\n",
       "Name: G7 population in millions, dtype: float64"
      ]
     },
     "execution_count": 12,
     "metadata": {},
     "output_type": "execute_result"
    }
   ],
   "source": [
    "g7_pop"
   ]
  },
  {
   "cell_type": "code",
   "execution_count": 13,
   "id": "645d71f6-fae7-42bc-9089-1c268b53987d",
   "metadata": {},
   "outputs": [
    {
     "data": {
      "text/plain": [
       "35.467"
      ]
     },
     "execution_count": 13,
     "metadata": {},
     "output_type": "execute_result"
    }
   ],
   "source": [
    "g7_pop['Canada']"
   ]
  },
  {
   "cell_type": "code",
   "execution_count": 14,
   "id": "1f638424-cc6d-40bb-8748-dd2d39328e5f",
   "metadata": {},
   "outputs": [
    {
     "data": {
      "text/plain": [
       "35.467"
      ]
     },
     "execution_count": 14,
     "metadata": {},
     "output_type": "execute_result"
    }
   ],
   "source": [
    " #Numeric poitions can be used with iloc attribute\n",
    "g7_pop.iloc[0]"
   ]
  },
  {
   "cell_type": "code",
   "execution_count": 15,
   "id": "9ae1cd33-15c4-42ea-9d44-127264f0e376",
   "metadata": {},
   "outputs": [
    {
     "data": {
      "text/plain": [
       "318.523"
      ]
     },
     "execution_count": 15,
     "metadata": {},
     "output_type": "execute_result"
    }
   ],
   "source": [
    "g7_pop.iloc[-1]"
   ]
  },
  {
   "cell_type": "code",
   "execution_count": 16,
   "id": "11044128-ab41-4722-9cb5-c71d32dc572d",
   "metadata": {},
   "outputs": [
    {
     "data": {
      "text/plain": [
       "Italy     60.665\n",
       "France    63.951\n",
       "Name: G7 population in millions, dtype: float64"
      ]
     },
     "execution_count": 16,
     "metadata": {},
     "output_type": "execute_result"
    }
   ],
   "source": [
    "#selecting multiple elements at once \n",
    "g7_pop[['Italy','France']]"
   ]
  },
  {
   "cell_type": "code",
   "execution_count": 21,
   "id": "4c83074a-96b6-4849-a2b1-bbc0b796a7ce",
   "metadata": {},
   "outputs": [
    {
     "data": {
      "text/plain": [
       "Canada     35.467\n",
       "France     63.951\n",
       "Germany    80.940\n",
       "Italy      60.665\n",
       "Name: G7 population in millions, dtype: float64"
      ]
     },
     "execution_count": 21,
     "metadata": {},
     "output_type": "execute_result"
    }
   ],
   "source": [
    "#slicing also works in pandas but the upperlimit is also included \n",
    "g7_pop['Canada':'Italy']"
   ]
  },
  {
   "cell_type": "code",
   "execution_count": 22,
   "id": "211f93ac-3202-4204-8abe-ba2c5733d00c",
   "metadata": {},
   "outputs": [],
   "source": [
    "## Conditional Selection (Boolean Arrays)"
   ]
  },
  {
   "cell_type": "code",
   "execution_count": 23,
   "id": "02cd02e7-6a62-4188-9a82-34f2ccfedf95",
   "metadata": {},
   "outputs": [
    {
     "data": {
      "text/plain": [
       "Canada             35.467\n",
       "France             63.951\n",
       "Germany            80.940\n",
       "Italy              60.665\n",
       "Japan             127.067\n",
       "United States      64.511\n",
       "United Kingdom    318.523\n",
       "Name: G7 population in millions, dtype: float64"
      ]
     },
     "execution_count": 23,
     "metadata": {},
     "output_type": "execute_result"
    }
   ],
   "source": [
    "g7_pop"
   ]
  },
  {
   "cell_type": "code",
   "execution_count": 24,
   "id": "68eb168e-c2d1-4046-a024-4fa734e82fd2",
   "metadata": {},
   "outputs": [
    {
     "data": {
      "text/plain": [
       "Canada            False\n",
       "France            False\n",
       "Germany            True\n",
       "Italy             False\n",
       "Japan              True\n",
       "United States     False\n",
       "United Kingdom     True\n",
       "Name: G7 population in millions, dtype: bool"
      ]
     },
     "execution_count": 24,
     "metadata": {},
     "output_type": "execute_result"
    }
   ],
   "source": [
    "g7_pop > 70"
   ]
  },
  {
   "cell_type": "code",
   "execution_count": 26,
   "id": "1fe409ee-06c9-4598-a8d8-5cdd5593a99e",
   "metadata": {},
   "outputs": [
    {
     "data": {
      "text/plain": [
       "Germany            80.940\n",
       "Japan             127.067\n",
       "United Kingdom    318.523\n",
       "Name: G7 population in millions, dtype: float64"
      ]
     },
     "execution_count": 26,
     "metadata": {},
     "output_type": "execute_result"
    }
   ],
   "source": [
    "#selecting \n",
    "g7_pop[g7_pop > 70]"
   ]
  },
  {
   "cell_type": "code",
   "execution_count": 28,
   "id": "c6ffe7f1-84f7-4e9d-a026-3e8663062e6a",
   "metadata": {},
   "outputs": [
    {
     "data": {
      "text/plain": [
       "107.30342857142857"
      ]
     },
     "execution_count": 28,
     "metadata": {},
     "output_type": "execute_result"
    }
   ],
   "source": [
    "g7_pop.mean()\n"
   ]
  },
  {
   "cell_type": "code",
   "execution_count": 29,
   "id": "6893e3ca-620d-4fda-a001-191382781a9b",
   "metadata": {},
   "outputs": [
    {
     "data": {
      "text/plain": [
       "Japan             127.067\n",
       "United Kingdom    318.523\n",
       "Name: G7 population in millions, dtype: float64"
      ]
     },
     "execution_count": 29,
     "metadata": {},
     "output_type": "execute_result"
    }
   ],
   "source": [
    "g7_pop[g7_pop > g7_pop.mean()]"
   ]
  },
  {
   "cell_type": "code",
   "execution_count": 30,
   "id": "cf8ee6e3-24a0-441a-9b2a-0213b7fe52c7",
   "metadata": {},
   "outputs": [
    {
     "data": {
      "text/plain": [
       "97.25017306900992"
      ]
     },
     "execution_count": 30,
     "metadata": {},
     "output_type": "execute_result"
    }
   ],
   "source": [
    "g7_pop.std()"
   ]
  },
  {
   "cell_type": "code",
   "execution_count": 32,
   "id": "1741f55a-5206-4ad6-a923-35d81023a70d",
   "metadata": {},
   "outputs": [
    {
     "data": {
      "text/plain": [
       "Canada            3.568603\n",
       "France            4.158117\n",
       "Germany           4.393708\n",
       "Italy             4.105367\n",
       "Japan             4.844715\n",
       "United States     4.166836\n",
       "United Kingdom    5.763695\n",
       "Name: G7 population in millions, dtype: float64"
      ]
     },
     "execution_count": 32,
     "metadata": {},
     "output_type": "execute_result"
    }
   ],
   "source": [
    "np.log(g7_pop)\n",
    "#all numpy functions also works"
   ]
  },
  {
   "cell_type": "code",
   "execution_count": 33,
   "id": "1a13ad18-0280-4384-9d63-49fa746639f0",
   "metadata": {},
   "outputs": [
    {
     "data": {
      "text/plain": [
       "Germany     80.940\n",
       "Japan      127.067\n",
       "Name: G7 population in millions, dtype: float64"
      ]
     },
     "execution_count": 33,
     "metadata": {},
     "output_type": "execute_result"
    }
   ],
   "source": [
    "g7_pop[(g7_pop > 80) & (g7_pop < 200)]"
   ]
  },
  {
   "cell_type": "code",
   "execution_count": 34,
   "id": "3e1f68ed-3374-4d55-b8ab-2c91d92033e9",
   "metadata": {},
   "outputs": [],
   "source": [
    "#Modifying the Series\n",
    "g7_pop['Canada'] = 40.789"
   ]
  },
  {
   "cell_type": "code",
   "execution_count": 35,
   "id": "49443fb3-a374-40d9-b251-2e23593045d7",
   "metadata": {},
   "outputs": [
    {
     "data": {
      "text/plain": [
       "Canada             40.789\n",
       "France             63.951\n",
       "Germany            80.940\n",
       "Italy              60.665\n",
       "Japan             127.067\n",
       "United States      64.511\n",
       "United Kingdom    318.523\n",
       "Name: G7 population in millions, dtype: float64"
      ]
     },
     "execution_count": 35,
     "metadata": {},
     "output_type": "execute_result"
    }
   ],
   "source": [
    "g7_pop"
   ]
  },
  {
   "cell_type": "code",
   "execution_count": 36,
   "id": "2e3521d5-96ba-4fc3-94b0-10e1ecd3a6bd",
   "metadata": {},
   "outputs": [],
   "source": [
    "g7_pop[g7_pop < 70 ] =90"
   ]
  },
  {
   "cell_type": "code",
   "execution_count": 37,
   "id": "7d43fb22-acb4-4f80-b519-830372a7018e",
   "metadata": {},
   "outputs": [
    {
     "data": {
      "text/plain": [
       "Canada             90.000\n",
       "France             90.000\n",
       "Germany            80.940\n",
       "Italy              90.000\n",
       "Japan             127.067\n",
       "United States      90.000\n",
       "United Kingdom    318.523\n",
       "Name: G7 population in millions, dtype: float64"
      ]
     },
     "execution_count": 37,
     "metadata": {},
     "output_type": "execute_result"
    }
   ],
   "source": [
    "g7_pop"
   ]
  },
  {
   "cell_type": "code",
   "execution_count": null,
   "id": "3db2be6d-fa30-40d0-869f-7c06c077b236",
   "metadata": {},
   "outputs": [],
   "source": []
  }
 ],
 "metadata": {
  "kernelspec": {
   "display_name": "Python 3 (ipykernel)",
   "language": "python",
   "name": "python3"
  },
  "language_info": {
   "codemirror_mode": {
    "name": "ipython",
    "version": 3
   },
   "file_extension": ".py",
   "mimetype": "text/x-python",
   "name": "python",
   "nbconvert_exporter": "python",
   "pygments_lexer": "ipython3",
   "version": "3.12.4"
  }
 },
 "nbformat": 4,
 "nbformat_minor": 5
}
